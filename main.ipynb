{
  "nbformat": 4,
  "nbformat_minor": 0,
  "metadata": {
    "colab": {
      "name": "main.ipynb",
      "provenance": [],
      "authorship_tag": "ABX9TyMLqWxxCCkYkUmNxi5gcXDo",
      "include_colab_link": true
    },
    "kernelspec": {
      "name": "python3",
      "display_name": "Python 3"
    },
    "language_info": {
      "name": "python"
    }
  },
  "cells": [
    {
      "cell_type": "markdown",
      "metadata": {
        "id": "view-in-github",
        "colab_type": "text"
      },
      "source": [
        "<a href=\"https://colab.research.google.com/github/nerudxlf/translit_authors_omstu/blob/main/main.ipynb\" target=\"_parent\"><img src=\"https://colab.research.google.com/assets/colab-badge.svg\" alt=\"Open In Colab\"/></a>"
      ]
    },
    {
      "cell_type": "code",
      "metadata": {
        "id": "59Ym-qimXexv"
      },
      "source": [
        "%pip install transliterate"
      ],
      "execution_count": null,
      "outputs": []
    },
    {
      "cell_type": "code",
      "metadata": {
        "colab": {
          "resources": {
            "http://localhost:8080/nbextensions/google.colab/files.js": {
              "data": "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",
              "ok": true,
              "headers": [
                [
                  "content-type",
                  "application/javascript"
                ]
              ],
              "status": 200,
              "status_text": ""
            }
          },
          "base_uri": "https://localhost:8080/",
          "height": 55
        },
        "id": "La2W6LMNZNZx",
        "outputId": "e10e8d6f-8211-472b-ae18-f64e94d29d9a"
      },
      "source": [
        "import pandas as pd\n",
        "from google.colab import files\n",
        "from pandas import DataFrame\n",
        "from transliterate.decorators import transliterate_function\n",
        "\n",
        "files.upload()"
      ],
      "execution_count": 4,
      "outputs": [
        {
          "output_type": "display_data",
          "data": {
            "text/html": [
              "\n",
              "     <input type=\"file\" id=\"files-74cf940a-0471-45f7-9d35-73d275a01971\" name=\"files[]\" multiple disabled\n",
              "        style=\"border:none\" />\n",
              "     <output id=\"result-74cf940a-0471-45f7-9d35-73d275a01971\">\n",
              "      Upload widget is only available when the cell has been executed in the\n",
              "      current browser session. Please rerun this cell to enable.\n",
              "      </output>\n",
              "      <script src=\"/nbextensions/google.colab/files.js\"></script> "
            ],
            "text/plain": [
              "<IPython.core.display.HTML object>"
            ]
          },
          "metadata": {}
        },
        {
          "output_type": "execute_result",
          "data": {
            "text/plain": [
              "{}"
            ]
          },
          "metadata": {},
          "execution_count": 4
        }
      ]
    },
    {
      "cell_type": "code",
      "metadata": {
        "id": "DHB-Ud5dXkAX"
      },
      "source": [
        "class UpdateDictionary:\n",
        "    def __init__(self, dictionary: str):\n",
        "        self.__dictionary = pd.read_excel(dictionary)\n",
        "\n",
        "    @staticmethod\n",
        "    def __spelling_options(fio: str) -> str:\n",
        "        dictionary_letter = {\n",
        "            \"ja\": \"ya\", \"ya\": \"ja\", \"w\": \"v\", \"v\": \"w\", \"ts\": \"tz\", \"tz\": \"ts\", \"h\": \"kh\", \"zh\": \"j\", \"ij\": \"ii\",\n",
        "            \"ju\": \"yu\", \"sch\": \"shch\",\n",
        "        }\n",
        "        dictionary_symbol = {\n",
        "            \".\": \"., \", '’': \"'\",\n",
        "        }\n",
        "        return_string = \"\"\n",
        "        for key, item in dictionary_letter.items():\n",
        "            get_fio_list = fio.split()\n",
        "            if get_fio_list[0].find(key) != -1:\n",
        "                return_string += f\"{get_fio_list[0].replace(key, item)} {get_fio_list[1]}\"\n",
        "        for key, item in dictionary_symbol.items():\n",
        "            if fio.find(key) != -1:\n",
        "                return_string += f\"{fio.replace(key, item, 1)}\"\n",
        "        return fio + return_string\n",
        "\n",
        "    @staticmethod\n",
        "    @transliterate_function(language_code='ru', reversed=True)\n",
        "    def __translit_scopus(text):\n",
        "        surname, name, *patronymic = text.split()\n",
        "        try:\n",
        "            patronymic = f\"{patronymic[0][0]}.\"\n",
        "        except IndexError:\n",
        "            patronymic = \"\"\n",
        "        return f\"{surname} {name[0]}.{patronymic};\".lower()\n",
        "\n",
        "    @staticmethod\n",
        "    @transliterate_function(language_code='ru', reversed=True)\n",
        "    def __translit_wos(text):\n",
        "        surname, name, *patronymic = text.split()\n",
        "        try:\n",
        "            patronymic = patronymic[0][0]\n",
        "        except IndexError:\n",
        "            patronymic = \"\"\n",
        "        return f\"{surname}, {name[0]}{patronymic};\".lower()\n",
        "\n",
        "    def add_translit_names(self) -> DataFrame:\n",
        "        names_list = self.__dictionary[\"Сотрудник\"].to_list()\n",
        "        keys_list = self.__dictionary[\"names\"].to_list()\n",
        "        for i in range(len(names_list)):\n",
        "            translit_name_scopus = self.__translit_scopus(names_list[i])\n",
        "            translit_name_wos = self.__translit_wos(names_list[i])\n",
        "            if isinstance(keys_list[i], float):\n",
        "                keys_list[i] = self.__spelling_options(translit_name_scopus) + self.__spelling_options(\n",
        "                    translit_name_wos)\n",
        "                continue\n",
        "            if keys_list[i].find(translit_name_scopus) == -1:\n",
        "                keys_list[i] += self.__spelling_options(translit_name_scopus)\n",
        "            if keys_list[i].find(translit_name_wos) == -1:\n",
        "                keys_list[i] += self.__spelling_options(translit_name_wos)\n",
        "        self.__dictionary[\"names\"] = keys_list\n",
        "        return self.__dictionary\n",
        "\n",
        "    def to_excel(self, path: str):\n",
        "        self.__dictionary.to_excel(path, index=False)\n",
        "\n",
        "\n",
        "class ErrorValue:\n",
        "    _total_authors = 0\n",
        "    __error_list = []\n",
        "\n",
        "    def __init__(self, path_to_table: str, path_to_dictionary: str):\n",
        "        self.table_df = pd.read_excel(path_to_table)\n",
        "        self.dictionary_names = pd.read_excel(path_to_dictionary)[\"names\"].to_list()\n",
        "\n",
        "    def get_authors(self) -> list:\n",
        "        pass\n",
        "\n",
        "    def get_error_list(self) -> list:\n",
        "        self.__error_list = []\n",
        "        authors_list = self.get_authors()\n",
        "        dictionary_string = \"\".join(self.dictionary_names)\n",
        "        for author in authors_list:\n",
        "            if dictionary_string.find(author) == -1:\n",
        "                self.__error_list.append(author)\n",
        "        return self.__error_list\n",
        "\n",
        "    def get_error_value(self) -> float:\n",
        "        return round(len(self.__error_list) / self._total_authors * 100, 2)\n",
        "\n",
        "\n",
        "class ErrorWos(ErrorValue):\n",
        "    def get_authors(self) -> list:\n",
        "        self._total_authors = 0\n",
        "        result_list = []\n",
        "        authors_list = self.table_df[\"Authors\"].to_list()\n",
        "        authors_with_affiliation = self.table_df[\"Addresses\"].to_list()\n",
        "        for i in range(len(authors_with_affiliation)):\n",
        "            authors_list_split = authors_list[i].split(\"; \")\n",
        "            authors_with_affiliation_split = authors_with_affiliation[i].split(\"; [\")\n",
        "            for j in authors_with_affiliation_split:\n",
        "                if j.find(\"Omsk State Tech Univ\") != -1:\n",
        "                    authors_omstu = j.split(\"]\")[0]\n",
        "                    authors_omstu_split = authors_omstu.split(\"; \")\n",
        "                    for elem in range(len(authors_omstu_split)):\n",
        "                        self._total_authors += 1\n",
        "                        result_list.append(authors_list_split[elem].lower()+\";\")\n",
        "        return list(set(result_list))\n",
        "\n",
        "\n",
        "class ErrorScopus(ErrorValue):\n",
        "    def get_authors(self) -> list:\n",
        "        self._total_authors = 0\n",
        "        result_list = []\n",
        "        authors_list = self.table_df[\"Authors with affiliations\"].to_list()\n",
        "        for authors in authors_list:\n",
        "            for author in authors.split(\"; \"):\n",
        "                if author.find(\"Omsk State Technical University\") != -1:\n",
        "                    self._total_authors += 1\n",
        "                    item_split = author.split(\", \")\n",
        "                    need_author = item_split[0] + \" \" + item_split[1] + \";\"\n",
        "                    result_list.append(need_author.lower())\n",
        "        return list(set(result_list))"
      ],
      "execution_count": 7,
      "outputs": []
    },
    {
      "cell_type": "code",
      "metadata": {
        "colab": {
          "base_uri": "https://localhost:8080/"
        },
        "id": "KECiqzVyX_ND",
        "outputId": "71b374ea-dfda-4f0b-9d47-4863987b62ed"
      },
      "source": [
        "dictionary_update = UpdateDictionary(\"dictionary.xlsx\")\n",
        "dictionary_df = dictionary_update.add_translit_names()\n",
        "dictionary_df.to_excel(\"dictionary_new.xlsx\", index=False)\n",
        "error_scopus = ErrorScopus(\"scopus_2020_2021.xlsx\", \"dictionary_new.xlsx\")\n",
        "error_wos = ErrorWos(\"wos_2020_2021.xls\", \"dictionary_new.xlsx\")\n",
        "error_scopus_list = error_scopus.get_error_list()\n",
        "error_wos_list = error_wos.get_error_list()\n",
        "error_wos_value = error_wos.get_error_value()\n",
        "error_scopus_value = error_scopus.get_error_value()\n",
        "error_wos_df = pd.DataFrame({\"wos\": error_wos_list})\n",
        "error_scopus_df = pd.DataFrame({\"scopus\": error_scopus_list})\n",
        "print(f\"Wos Error: {error_wos_value}%\")\n",
        "print(f\"Scopus Error: {error_scopus_value}%\")\n",
        "error_wos_df.to_excel(\"ErrorWos.xlsx\")\n",
        "error_scopus_df.to_excel(\"ErrorScopus.xlsx\")"
      ],
      "execution_count": 8,
      "outputs": [
        {
          "output_type": "stream",
          "name": "stdout",
          "text": [
            "Wos Error: 30.38%\n",
            "Scopus Error: 13.11%\n"
          ]
        }
      ]
    }
  ]
}